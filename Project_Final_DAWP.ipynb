{
 "cells": [
  {
   "cell_type": "code",
   "execution_count": 3,
   "id": "a06300f4-37aa-46d8-999a-cb9fd2ec85b4",
   "metadata": {
    "tags": []
   },
   "outputs": [],
   "source": [
    "import pandas as pd\n",
    "import matplotlib.pyplot as plt\n",
    "import numpy as np\n",
    "import seaborn as sns\n",
    "from sklearn.pipeline import Pipeline\n",
    "from sklearn.preprocessing import StandardScaler, PolynomialFeatures\n",
    "from sklearn.linear_model import LinearRegression, Ridge\n",
    "from sklearn.metrics import mean_squared_error, r2_score\n",
    "from sklearn.model_selection import cross_val_score, train_test_split"
   ]
  },
  {
   "cell_type": "code",
   "execution_count": 1,
   "id": "47f2c300-88c9-4334-befa-5a29ee99c6b4",
   "metadata": {
    "tags": []
   },
   "outputs": [],
   "source": [
    "import requests\n",
    "\n",
    "def download(url, filename):\n",
    "    response = requests.get(url)\n",
    "    if response.status_code == 200:\n",
    "        with open(filename, \"wb\") as f:\n",
    "            f.write(response.content)\n"
   ]
  },
  {
   "cell_type": "code",
   "execution_count": 9,
   "id": "686943f2-dab9-4a59-bd8b-1065e1db5d14",
   "metadata": {
    "tags": []
   },
   "outputs": [],
   "source": [
    "filepath = 'https://cf-courses-data.s3.us.cloud-object-storage.appdomain.cloud/IBMDeveloperSkillsNetwork-DA0101EN-Coursera/medical_insurance_dataset.csv'"
   ]
  },
  {
   "cell_type": "code",
   "execution_count": 17,
   "id": "8373d472-3b09-48e8-bdd3-5fa1423c4714",
   "metadata": {
    "tags": []
   },
   "outputs": [],
   "source": [
    "file_name = \"insurance.csv\"\n",
    "\n",
    "response = requests.get(filepath)\n",
    "if response.status_code == 200:\n",
    "    with open(file_name, \"wb\") as f:\n",
    "        f.write(response.content)"
   ]
  },
  {
   "cell_type": "code",
   "execution_count": 23,
   "id": "3cecd5a9-23b7-4d59-a97a-931138247a0a",
   "metadata": {
    "tags": []
   },
   "outputs": [],
   "source": [
    "df = pd.read_csv(file_name)"
   ]
  },
  {
   "cell_type": "markdown",
   "id": "b3e63fb6-d769-4c8c-b9d7-685687f6c23a",
   "metadata": {},
   "source": [
    "Task 1 : Import the dataset"
   ]
  },
  {
   "cell_type": "code",
   "execution_count": 21,
   "id": "01f3e4d3-a17c-4f19-b499-78f56752e0b9",
   "metadata": {
    "tags": []
   },
   "outputs": [
    {
     "name": "stdout",
     "output_type": "stream",
     "text": [
      "    0  1       2  3  4  5            6\n",
      "0  19  1  27.900  0  1  3  16884.92400\n",
      "1  18  2  33.770  1  0  4   1725.55230\n",
      "2  28  2  33.000  3  0  4   4449.46200\n",
      "3  33  2  22.705  0  0  1  21984.47061\n",
      "4  32  2  28.880  0  0  1   3866.85520\n",
      "5  31  1  25.740  0  ?  4   3756.62160\n",
      "6  46  1  33.440  1  0  4   8240.58960\n",
      "7  37  1  27.740  3  0  1   7281.50560\n",
      "8  37  2  29.830  2  0  2   6406.41070\n",
      "9  60  1  25.840  0  0  1  28923.13692\n"
     ]
    }
   ],
   "source": [
    "df = pd.read_csv(file_name, header=None)\n",
    "print(df.head(10))"
   ]
  },
  {
   "cell_type": "code",
   "execution_count": 26,
   "id": "bfd91a77-92b1-4bd8-963d-589215380423",
   "metadata": {
    "tags": []
   },
   "outputs": [],
   "source": [
    "headers = [\"age\", \"gender\", \"bmi\", \"no_of_children\", \"smoker\", \"region\", \"charges\"]\n",
    "df.columns = headers"
   ]
  },
  {
   "cell_type": "code",
   "execution_count": 30,
   "id": "ed2a48cc-1a93-4702-95c0-ff4709981830",
   "metadata": {
    "tags": []
   },
   "outputs": [],
   "source": [
    "df.replace('?', np.nan, inplace = True)"
   ]
  },
  {
   "cell_type": "markdown",
   "id": "dbeb60a5-8950-469c-8d93-dcfc90af111a",
   "metadata": {
    "tags": []
   },
   "source": [
    "Task 2 : Data Wrangling"
   ]
  },
  {
   "cell_type": "code",
   "execution_count": 32,
   "id": "63970d85-98ef-4e39-8491-64b843fc776b",
   "metadata": {
    "tags": []
   },
   "outputs": [
    {
     "name": "stdout",
     "output_type": "stream",
     "text": [
      "<class 'pandas.core.frame.DataFrame'>\n",
      "RangeIndex: 2771 entries, 0 to 2770\n",
      "Data columns (total 7 columns):\n",
      " #   Column          Non-Null Count  Dtype  \n",
      "---  ------          --------------  -----  \n",
      " 0   age             2767 non-null   object \n",
      " 1   gender          2771 non-null   int64  \n",
      " 2   bmi             2771 non-null   float64\n",
      " 3   no_of_children  2771 non-null   int64  \n",
      " 4   smoker          2764 non-null   object \n",
      " 5   region          2771 non-null   int64  \n",
      " 6   charges         2771 non-null   float64\n",
      "dtypes: float64(2), int64(3), object(2)\n",
      "memory usage: 151.7+ KB\n",
      "None\n"
     ]
    }
   ],
   "source": [
    "print(df.info())"
   ]
  },
  {
   "cell_type": "code",
   "execution_count": 34,
   "id": "6de3d6bd-a07d-4bca-a26e-035f07514492",
   "metadata": {
    "tags": []
   },
   "outputs": [
    {
     "name": "stdout",
     "output_type": "stream",
     "text": [
      "<class 'pandas.core.frame.DataFrame'>\n",
      "RangeIndex: 2771 entries, 0 to 2770\n",
      "Data columns (total 7 columns):\n",
      " #   Column          Non-Null Count  Dtype  \n",
      "---  ------          --------------  -----  \n",
      " 0   age             2771 non-null   int32  \n",
      " 1   gender          2771 non-null   int64  \n",
      " 2   bmi             2771 non-null   float64\n",
      " 3   no_of_children  2771 non-null   int64  \n",
      " 4   smoker          2771 non-null   int32  \n",
      " 5   region          2771 non-null   int64  \n",
      " 6   charges         2771 non-null   float64\n",
      "dtypes: float64(2), int32(2), int64(3)\n",
      "memory usage: 130.0 KB\n",
      "None\n"
     ]
    }
   ],
   "source": [
    "# smoker is a categorical attribute, replace with most frequent entry\n",
    "is_smoker = df['smoker'].value_counts().idxmax()\n",
    "df[\"smoker\"].replace(np.nan, is_smoker, inplace=True)\n",
    "\n",
    "# age is a continuous variable, replace with mean age\n",
    "mean_age = df['age'].astype('float').mean(axis=0)\n",
    "df[\"age\"].replace(np.nan, mean_age, inplace=True)\n",
    "\n",
    "# Update data types\n",
    "df[[\"age\",\"smoker\"]] = df[[\"age\",\"smoker\"]].astype(\"int\")\n",
    "\n",
    "print(df.info())"
   ]
  },
  {
   "cell_type": "code",
   "execution_count": 36,
   "id": "bbd5a455-bff4-4806-b45c-a01a2c02389e",
   "metadata": {
    "tags": []
   },
   "outputs": [
    {
     "name": "stdout",
     "output_type": "stream",
     "text": [
      "   age  gender     bmi  no_of_children  smoker  region   charges\n",
      "0   18       2  33.770               1       0       4   1725.55\n",
      "1   28       2  33.000               3       0       4   4449.46\n",
      "2   33       2  22.705               0       0       1  21984.47\n",
      "3   32       2  28.880               0       0       1   3866.86\n",
      "4   31       1  25.740               0       0       4   3756.62\n"
     ]
    }
   ],
   "source": [
    "df[[\"charges\"]] = np.round(df[[\"charges\"]],2)\n",
    "print(df.head())"
   ]
  },
  {
   "cell_type": "markdown",
   "id": "b9351c16-68e9-45d2-892d-633440bfc883",
   "metadata": {},
   "source": [
    "Task 3 : Exploratory Data Analysis (EDA)"
   ]
  },
  {
   "cell_type": "code",
   "execution_count": 38,
   "id": "fb4585c2-c710-4114-aa4a-7b56a9a39834",
   "metadata": {
    "tags": []
   },
   "outputs": [
    {
     "data": {
      "text/plain": [
       "(0.0, 66902.85800000001)"
      ]
     },
     "execution_count": 38,
     "metadata": {},
     "output_type": "execute_result"
    },
    {
     "data": {
      "image/png": "[encoded data removed]",
      "text/plain": [
       "<Figure size 640x480 with 1 Axes>"
      ]
     },
     "metadata": {},
     "output_type": "display_data"
    }
   ],
   "source": [
    "sns.regplot(x=\"bmi\", y=\"charges\", data=df, line_kws={\"color\": \"red\"})\n",
    "plt.ylim(0,)"
   ]
  },
  {
   "cell_type": "code",
   "execution_count": 45,
   "id": "ac9903f4-56f0-4845-ac8b-a51d56adf7c8",
   "metadata": {
    "tags": []
   },
   "outputs": [
    {
     "data": {
      "text/plain": [
       "<Axes: xlabel='smoker', ylabel='charges'>"
      ]
     },
     "execution_count": 45,
     "metadata": {},
     "output_type": "execute_result"
    },
    {
     "data": {
      "image/png": "[encoded data removed]",
      "text/plain": [
       "<Figure size 640x480 with 1 Axes>"
      ]
     },
     "metadata": {},
     "output_type": "display_data"
    }
   ],
   "source": [
    "sns.boxplot(x=\"smoker\", y=\"charges\", data=df)"
   ]
  },
  {
   "cell_type": "code",
   "execution_count": 47,
   "id": "b97990fc-4092-4270-be8c-9946ce806767",
   "metadata": {
    "tags": []
   },
   "outputs": [
    {
     "name": "stdout",
     "output_type": "stream",
     "text": [
      "                     age    gender       bmi  no_of_children    smoker  \\\n",
      "age             1.000000 -0.026584  0.112859        0.037126 -0.022290   \n",
      "gender         -0.026584  1.000000  0.042766        0.015693  0.083125   \n",
      "bmi             0.112859  0.042766  1.000000       -0.001642  0.011824   \n",
      "no_of_children  0.037126  0.015693 -0.001642        1.000000  0.007016   \n",
      "smoker         -0.022290  0.083125  0.011824        0.007016  1.000000   \n",
      "region         -0.006969  0.022360  0.271200       -0.025594  0.053839   \n",
      "charges         0.298892  0.062959  0.199906        0.066551  0.789141   \n",
      "\n",
      "                  region   charges  \n",
      "age            -0.006969  0.298892  \n",
      "gender          0.022360  0.062959  \n",
      "bmi             0.271200  0.199906  \n",
      "no_of_children -0.025594  0.066551  \n",
      "smoker          0.053839  0.789141  \n",
      "region          1.000000  0.054018  \n",
      "charges         0.054018  1.000000  \n"
     ]
    }
   ],
   "source": [
    "print(df.corr())"
   ]
  },
  {
   "cell_type": "markdown",
   "id": "826b057f-03fb-4cc5-84e9-6edca73805bc",
   "metadata": {},
   "source": [
    "Task 4 : Model Development"
   ]
  },
  {
   "cell_type": "code",
   "execution_count": 50,
   "id": "1bf6c37b-9bc6-425c-b3ae-14ec93982778",
   "metadata": {
    "tags": []
   },
   "outputs": [
    {
     "name": "stdout",
     "output_type": "stream",
     "text": [
      "0.6227430402464125\n"
     ]
    }
   ],
   "source": [
    "X = df[['smoker']]\n",
    "Y = df['charges']\n",
    "lm = LinearRegression()\n",
    "lm.fit(X,Y)\n",
    "print(lm.score(X, Y))"
   ]
  },
  {
   "cell_type": "code",
   "execution_count": 52,
   "id": "af9eab91-b645-44fd-aa39-485e7ebadb4d",
   "metadata": {
    "tags": []
   },
   "outputs": [
    {
     "name": "stdout",
     "output_type": "stream",
     "text": [
      "0.7505888664568174\n"
     ]
    }
   ],
   "source": [
    "# definition of Y and lm remain same as used in last cell. \n",
    "Z = df[[\"age\", \"gender\", \"bmi\", \"no_of_children\", \"smoker\", \"region\"]]\n",
    "lm.fit(Z,Y)\n",
    "print(lm.score(Z, Y))"
   ]
  },
  {
   "cell_type": "code",
   "execution_count": 54,
   "id": "722eed9c-cb0c-475b-88a0-f0e433bd56cd",
   "metadata": {
    "tags": []
   },
   "outputs": [
    {
     "name": "stdout",
     "output_type": "stream",
     "text": [
      "0.8453719231080021\n"
     ]
    }
   ],
   "source": [
    "# Y and Z use the same values as defined in previous cells \n",
    "Input=[('scale',StandardScaler()), ('polynomial', PolynomialFeatures(include_bias=False)), ('model', LinearRegression())]\n",
    "pipe=Pipeline(Input)\n",
    "Z = Z.astype(float)\n",
    "pipe.fit(Z,Y)\n",
    "ypipe=pipe.predict(Z)\n",
    "print(r2_score(Y,ypipe))"
   ]
  },
  {
   "cell_type": "markdown",
   "id": "d3f3ef29-be49-4239-ba33-6c24a4778e92",
   "metadata": {},
   "source": [
    "Task 5 : Model Refinement"
   ]
  },
  {
   "cell_type": "code",
   "execution_count": 57,
   "id": "9d3c34a6-360e-4831-9136-ec8e1441eba9",
   "metadata": {
    "tags": []
   },
   "outputs": [],
   "source": [
    "# Z and Y hold same values as in previous cells\n",
    "x_train, x_test, y_train, y_test = train_test_split(Z, Y, test_size=0.2, random_state=1)"
   ]
  },
  {
   "cell_type": "code",
   "execution_count": 59,
   "id": "f13ccb3c-fdc2-49b9-8e98-74497c597fb0",
   "metadata": {
    "tags": []
   },
   "outputs": [
    {
     "name": "stdout",
     "output_type": "stream",
     "text": [
      "0.7254198858412229\n"
     ]
    }
   ],
   "source": [
    "# x_train, x_test, y_train, y_test hold same values as in previous cells\n",
    "RidgeModel=Ridge(alpha=0.1)\n",
    "RidgeModel.fit(x_train, y_train)\n",
    "yhat = RidgeModel.predict(x_test)\n",
    "print(r2_score(y_test,yhat))"
   ]
  },
  {
   "cell_type": "code",
   "execution_count": 61,
   "id": "44644334-ef6b-494a-9fae-e9037c4e85f5",
   "metadata": {
    "tags": []
   },
   "outputs": [
    {
     "name": "stdout",
     "output_type": "stream",
     "text": [
      "0.8208413195172473\n"
     ]
    }
   ],
   "source": [
    "# x_train, x_test, y_train, y_test hold same values as in previous cells\n",
    "pr = PolynomialFeatures(degree=2)\n",
    "x_train_pr = pr.fit_transform(x_train)\n",
    "x_test_pr = pr.transform(x_test)\n",
    "RidgeModel.fit(x_train_pr, y_train)\n",
    "y_hat = RidgeModel.predict(x_test_pr)\n",
    "print(r2_score(y_test,y_hat))"
   ]
  },
  {
   "cell_type": "code",
   "execution_count": null,
   "id": "4e70d940-9e04-4322-a863-86cb538a0775",
   "metadata": {},
   "outputs": [],
   "source": []
  }
 ],
 "metadata": {
  "kernelspec": {
   "display_name": "Python 3 (ipykernel)",
   "language": "python",
   "name": "python3"
  },
  "language_info": {
   "codemirror_mode": {
    "name": "ipython",
    "version": 3
   },
   "file_extension": ".py",
   "mimetype": "text/x-python",
   "name": "python",
   "nbconvert_exporter": "python",
   "pygments_lexer": "ipython3",
   "version": "3.11.7"
  }
 },
 "nbformat": 4,
 "nbformat_minor": 5
}
