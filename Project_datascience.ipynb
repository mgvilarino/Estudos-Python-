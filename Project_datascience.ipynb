{
 "cells": [
  {
   "cell_type": "code",
   "execution_count": null,
   "id": "f2694f06-1ef8-413b-a470-2263c0a47d89",
   "metadata": {
    "tags": []
   },
   "outputs": [],
   "source": [
    "import yfinance as yf\n",
    "import pandas as pd\n",
    "import requests\n",
    "from bs4 import BeautifulSoup\n",
    "import plotly.graph_objects as go\n",
    "from plotly.subplots import make_subplots"
   ]
  },
  {
   "cell_type": "code",
   "execution_count": null,
   "id": "3ba94265-29af-421a-866b-879f2d348383",
   "metadata": {
    "tags": []
   },
   "outputs": [],
   "source": [
    "import plotly.io as pio\n",
    "pio.renderers.default = \"iframe\"\n"
   ]
  },
  {
   "cell_type": "code",
   "execution_count": null,
   "id": "d7b86731-ee6f-4559-b2b7-5951c8827ce7",
   "metadata": {
    "tags": []
   },
   "outputs": [],
   "source": [
    "def make_graph(stock_data, revenue_data, stock):\n",
    "    fig = make_subplots(rows=2, cols=1, shared_xaxes=True, subplot_titles=(\"Historical Share Price\", \"Historical Revenue\"), vertical_spacing = .3)\n",
    "    stock_data_specific = stock_data[stock_data.Date <= '2021-06-14']\n",
    "    revenue_data_specific = revenue_data[revenue_data.Date <= '2021-04-30']\n",
    "    fig.add_trace(go.Scatter(x=pd.to_datetime(stock_data_specific.Date, infer_datetime_format=True), y=stock_data_specific.Close.astype(\"float\"), name=\"Share Price\"), row=1, col=1)\n",
    "    fig.add_trace(go.Scatter(x=pd.to_datetime(revenue_data_specific.Date, infer_datetime_format=True), y=revenue_data_specific.Revenue.astype(\"float\"), name=\"Revenue\"), row=2, col=1)\n",
    "    fig.update_xaxes(title_text=\"Date\", row=1, col=1)\n",
    "    fig.update_xaxes(title_text=\"Date\", row=2, col=1)\n",
    "    fig.update_yaxes(title_text=\"Price ($US)\", row=1, col=1)\n",
    "    fig.update_yaxes(title_text=\"Revenue ($US Millions)\", row=2, col=1)\n",
    "    fig.update_layout(showlegend=False,\n",
    "    height=900,\n",
    "    title=stock,\n",
    "    xaxis_rangeslider_visible=True)\n",
    "    fig.show()\n",
    "    from IPython.display import display, HTML\n",
    "    fig_html = fig.to_html()\n",
    "    display(HTML(fig_html))"
   ]
  },
  {
   "cell_type": "code",
   "execution_count": 96,
   "id": "a97a5411-f057-46bc-899a-0b392560b31d",
   "metadata": {
    "tags": []
   },
   "outputs": [
    {
     "name": "stdout",
     "output_type": "stream",
     "text": [
      "                               Open      High       Low     Close     Volume  \\\n",
      "Date                                                                           \n",
      "2010-06-29 00:00:00-04:00  1.266667  1.666667  1.169333  1.592667  281494500   \n",
      "2010-06-30 00:00:00-04:00  1.719333  2.028000  1.553333  1.588667  257806500   \n",
      "2010-07-01 00:00:00-04:00  1.666667  1.728000  1.351333  1.464000  123282000   \n",
      "2010-07-02 00:00:00-04:00  1.533333  1.540000  1.247333  1.280000   77097000   \n",
      "2010-07-06 00:00:00-04:00  1.333333  1.333333  1.055333  1.074000  103003500   \n",
      "\n",
      "                           Dividends  Stock Splits  \n",
      "Date                                                \n",
      "2010-06-29 00:00:00-04:00        0.0           0.0  \n",
      "2010-06-30 00:00:00-04:00        0.0           0.0  \n",
      "2010-07-01 00:00:00-04:00        0.0           0.0  \n",
      "2010-07-02 00:00:00-04:00        0.0           0.0  \n",
      "2010-07-06 00:00:00-04:00        0.0           0.0  \n"
     ]
    }
   ],
   "source": [
    "tesla = yf.Ticker(\"TSLA\")\n",
    "\n",
    "# Descargar datos históricos del precio de las acciones\n",
    "tesla_data = tesla.history(period=\"max\")\n",
    "\n",
    "# Mostrar las primeras filas del DataFrame\n",
    "print(tesla_data.head())"
   ]
  },
  {
   "cell_type": "code",
   "execution_count": 18,
   "id": "8552f3ff-8da8-4d93-b88c-8ce9ae03b9df",
   "metadata": {
    "tags": []
   },
   "outputs": [
    {
     "name": "stdout",
     "output_type": "stream",
     "text": [
      "         Date Revenue\n",
      "0  2025-03-31   19335\n",
      "1  2024-12-31   25707\n",
      "2  2024-09-30   25182\n",
      "3  2024-06-30   25500\n",
      "4  2024-03-31   21301\n"
     ]
    }
   ],
   "source": [
    "import requests\n",
    "from bs4 import BeautifulSoup\n",
    "import pandas as pd\n",
    "\n",
    "url = \"https://www.macrotrends.net/stocks/charts/TSLA/tesla/revenue\"\n",
    "headers = {\"User-Agent\": \"Mozilla/5.0\"}\n",
    "response = requests.get(url, headers=headers)\n",
    "\n",
    "soup = BeautifulSoup(response.text, 'html.parser')\n",
    "tables = soup.find_all(\"table\")\n",
    "\n",
    "# Find the right table that contains the Revenue data\n",
    "for table in tables:\n",
    "    if \"Tesla Quarterly Revenue\" in str(table):\n",
    "        revenue_table = table\n",
    "        break\n",
    "\n",
    "# Extract the data into a DataFrame\n",
    "tesla_revenue = []\n",
    "for row in revenue_table.find_all(\"tr\")[1:]:\n",
    "    cols = row.find_all(\"td\")\n",
    "    if len(cols) == 2:\n",
    "        date = cols[0].text.strip()\n",
    "        revenue = cols[1].text.strip().replace(\"$\", \"\").replace(\",\", \"\")\n",
    "        tesla_revenue.append({\"Date\": date, \"Revenue\": revenue})\n",
    "\n",
    "df_tesla_revenue = pd.DataFrame(tesla_revenue)\n",
    "print(df_tesla_revenue.head())"
   ]
  },
  {
   "cell_type": "code",
   "execution_count": 20,
   "id": "bd159eaa-7294-407e-b29b-ba0e5c21e2b9",
   "metadata": {
    "tags": []
   },
   "outputs": [
    {
     "name": "stdout",
     "output_type": "stream",
     "text": [
      "                       Date    Open    High     Low   Close    Volume  \\\n",
      "0 2020-04-29 00:00:00-04:00  1.4575  1.5225  1.3625  1.5100  13478400   \n",
      "1 2020-04-30 00:00:00-04:00  1.4675  1.4950  1.4100  1.4325   8693200   \n",
      "2 2020-05-01 00:00:00-04:00  1.4125  1.5450  1.3625  1.5125  16022400   \n",
      "3 2020-05-04 00:00:00-04:00  1.4600  1.4825  1.3500  1.3700  16272400   \n",
      "4 2020-05-05 00:00:00-04:00  1.3875  1.4075  1.3375  1.3475   8423600   \n",
      "\n",
      "   Dividends  Stock Splits  \n",
      "0        0.0           0.0  \n",
      "1        0.0           0.0  \n",
      "2        0.0           0.0  \n",
      "3        0.0           0.0  \n",
      "4        0.0           0.0  \n"
     ]
    }
   ],
   "source": [
    "import yfinance as yf\n",
    "import pandas as pd\n",
    "\n",
    "# Create a ticker object for GameStop\n",
    "gme_ticker = yf.Ticker(\"GME\")\n",
    "\n",
    "# Get historical market data (e.g., last 5 years of daily data)\n",
    "gme_stock_data = gme_ticker.history(period=\"5y\")\n",
    "\n",
    "# Reset index to get Date as a column\n",
    "gme_stock_data.reset_index(inplace=True)\n",
    "\n",
    "# Display the first few rows\n",
    "print(gme_stock_data.head())"
   ]
  },
  {
   "cell_type": "code",
   "execution_count": 25,
   "id": "47f99c2e-d109-4109-b891-279e09edd883",
   "metadata": {
    "tags": []
   },
   "outputs": [
    {
     "name": "stdout",
     "output_type": "stream",
     "text": [
      "         Date Revenue\n",
      "0  2025-03-31   19335\n",
      "1  2024-12-31   25707\n",
      "2  2024-09-30   25182\n",
      "3  2024-06-30   25500\n",
      "4  2024-03-31   21301\n"
     ]
    }
   ],
   "source": [
    "import requests\n",
    "from bs4 import BeautifulSoup\n",
    "import pandas as pd\n",
    "\n",
    "url = \"https://www.macrotrends.net/stocks/charts/TSLA/tesla/revenue\"\n",
    "headers = {\"User-Agent\": \"Mozilla/5.0\"}\n",
    "response = requests.get(url, headers=headers)\n",
    "\n",
    "soup = BeautifulSoup(response.text, 'html.parser')\n",
    "tables = soup.find_all(\"table\")\n",
    "\n",
    "# Find the right table that contains the Revenue data\n",
    "for table in tables:\n",
    "    if \"Tesla Quarterly Revenue\" in str(table):\n",
    "        revenue_table = table\n",
    "        break\n",
    "\n",
    "# Extract the data into a DataFrame\n",
    "gme_revenue  = []\n",
    "for row in revenue_table.find_all(\"tr\")[1:]:\n",
    "    cols = row.find_all(\"td\")\n",
    "    if len(cols) == 2:\n",
    "        date = cols[0].text.strip()\n",
    "        revenue = cols[1].text.strip().replace(\"$\", \"\").replace(\",\", \"\")\n",
    "        gme_revenue.append({\"Date\": date, \"Revenue\": revenue})\n",
    "\n",
    "df_gme_revenue = pd.DataFrame(gme_revenue)\n",
    "print(df_gme_revenue.head())"
   ]
  },
  {
   "cell_type": "code",
   "execution_count": 1,
   "id": "4a3ca139-10c6-4589-9d58-20b19dd534c0",
   "metadata": {
    "tags": []
   },
   "outputs": [
    {
     "name": "stdout",
     "output_type": "stream",
     "text": [
      "                                 Open        High         Low       Close  \\\n",
      "Date                                                                        \n",
      "2025-03-18 00:00:00-04:00  228.160004  230.100006  222.279999  225.309998   \n",
      "2025-03-19 00:00:00-04:00  231.610001  241.410004  229.199997  235.860001   \n",
      "2025-03-20 00:00:00-04:00  233.350006  238.000000  230.050003  236.259995   \n",
      "2025-03-21 00:00:00-04:00  234.990005  249.520004  234.550003  248.710007   \n",
      "2025-03-24 00:00:00-04:00  258.079987  278.640015  256.329987  278.390015   \n",
      "2025-03-25 00:00:00-04:00  283.600006  288.200012  271.279999  288.140015   \n",
      "2025-03-26 00:00:00-04:00  282.660004  284.899994  266.510010  272.059998   \n",
      "2025-03-27 00:00:00-04:00  272.480011  291.850006  271.820007  273.130005   \n",
      "2025-03-28 00:00:00-04:00  275.579987  276.100006  260.570007  263.549988   \n",
      "2025-03-31 00:00:00-04:00  249.309998  260.559998  243.360001  259.160004   \n",
      "2025-04-01 00:00:00-04:00  263.799988  277.450012  259.250000  268.459991   \n",
      "2025-04-02 00:00:00-04:00  254.600006  284.989990  251.270004  282.760010   \n",
      "2025-04-03 00:00:00-04:00  265.290009  276.299988  261.510010  267.279999   \n",
      "2025-04-04 00:00:00-04:00  255.380005  261.000000  236.000000  239.429993   \n",
      "2025-04-07 00:00:00-04:00  223.779999  252.000000  214.250000  233.289993   \n",
      "2025-04-08 00:00:00-04:00  245.000000  250.440002  217.800003  221.860001   \n",
      "2025-04-09 00:00:00-04:00  224.690002  274.690002  223.880005  272.200012   \n",
      "2025-04-10 00:00:00-04:00  260.000000  262.489990  239.330002  252.399994   \n",
      "2025-04-11 00:00:00-04:00  251.839996  257.739990  241.360001  252.309998   \n",
      "2025-04-14 00:00:00-04:00  258.359985  261.799988  245.929993  252.350006   \n",
      "2025-04-15 00:00:00-04:00  249.910004  258.750000  247.539993  254.110001   \n",
      "2025-04-16 00:00:00-04:00  247.610001  251.970001  233.889999  241.550003   \n",
      "2025-04-17 00:00:00-04:00  243.470001  244.339996  237.679993  241.369995   \n",
      "2025-04-21 00:00:00-04:00  230.259995  232.210007  222.789993  227.500000   \n",
      "2025-04-22 00:00:00-04:00  230.960007  242.789993  229.850006  237.970001   \n",
      "2025-04-23 00:00:00-04:00  254.860001  259.450012  244.429993  250.740005   \n",
      "2025-04-24 00:00:00-04:00  250.500000  259.540009  249.199997  259.510010   \n",
      "2025-04-25 00:00:00-04:00  261.690002  286.850006  259.630005  284.950012   \n",
      "2025-04-28 00:00:00-04:00  288.980011  294.859985  272.420013  285.880005   \n",
      "2025-04-29 00:00:00-04:00  285.477997  289.299988  279.469513  282.902100   \n",
      "\n",
      "                              Volume  Dividends  Stock Splits  \n",
      "Date                                                           \n",
      "2025-03-18 00:00:00-04:00  111477600        0.0           0.0  \n",
      "2025-03-19 00:00:00-04:00  111993800        0.0           0.0  \n",
      "2025-03-20 00:00:00-04:00   99028300        0.0           0.0  \n",
      "2025-03-21 00:00:00-04:00  132728700        0.0           0.0  \n",
      "2025-03-24 00:00:00-04:00  169079900        0.0           0.0  \n",
      "2025-03-25 00:00:00-04:00  150361500        0.0           0.0  \n",
      "2025-03-26 00:00:00-04:00  153629800        0.0           0.0  \n",
      "2025-03-27 00:00:00-04:00  162572100        0.0           0.0  \n",
      "2025-03-28 00:00:00-04:00  123809400        0.0           0.0  \n",
      "2025-03-31 00:00:00-04:00  134008900        0.0           0.0  \n",
      "2025-04-01 00:00:00-04:00  146486900        0.0           0.0  \n",
      "2025-04-02 00:00:00-04:00  212787800        0.0           0.0  \n",
      "2025-04-03 00:00:00-04:00  136174300        0.0           0.0  \n",
      "2025-04-04 00:00:00-04:00  181229400        0.0           0.0  \n",
      "2025-04-07 00:00:00-04:00  183453800        0.0           0.0  \n",
      "2025-04-08 00:00:00-04:00  171603500        0.0           0.0  \n",
      "2025-04-09 00:00:00-04:00  219433400        0.0           0.0  \n",
      "2025-04-10 00:00:00-04:00  181722600        0.0           0.0  \n",
      "2025-04-11 00:00:00-04:00  128948100        0.0           0.0  \n",
      "2025-04-14 00:00:00-04:00  100135200        0.0           0.0  \n",
      "2025-04-15 00:00:00-04:00   79594300        0.0           0.0  \n",
      "2025-04-16 00:00:00-04:00  112378700        0.0           0.0  \n",
      "2025-04-17 00:00:00-04:00   83404800        0.0           0.0  \n",
      "2025-04-21 00:00:00-04:00   97768000        0.0           0.0  \n",
      "2025-04-22 00:00:00-04:00  120858500        0.0           0.0  \n",
      "2025-04-23 00:00:00-04:00  150381900        0.0           0.0  \n",
      "2025-04-24 00:00:00-04:00   94464200        0.0           0.0  \n",
      "2025-04-25 00:00:00-04:00  167560700        0.0           0.0  \n",
      "2025-04-28 00:00:00-04:00  150957200        0.0           0.0  \n",
      "2025-04-29 00:00:00-04:00   42638371        0.0           0.0  \n"
     ]
    }
   ],
   "source": [
    "import yfinance as yf\n",
    "\n",
    "# Fetch Tesla's stock data\n",
    "tesla = yf.Ticker(\"TSLA\")\n",
    "\n",
    "# Get historical stock data (e.g., last 30 days)\n",
    "stock_data = tesla.history(period=\"30d\")\n",
    "\n",
    "print(stock_data)"
   ]
  },
  {
   "cell_type": "code",
   "execution_count": 3,
   "id": "cc9249b1-df51-4986-ad4b-d09e7902e27e",
   "metadata": {
    "tags": []
   },
   "outputs": [
    {
     "name": "stdout",
     "output_type": "stream",
     "text": [
      "   Year  Revenue\n",
      "0  2021     53.8\n",
      "1  2022     61.5\n",
      "2  2023     70.4\n",
      "3  2024     80.2\n",
      "4  2025     85.3\n"
     ]
    }
   ],
   "source": [
    "import pandas as pd\n",
    "\n",
    "# Sample revenue data (in millions) for demonstration\n",
    "data = {\n",
    "    'Year': [2021, 2022, 2023, 2024, 2025],\n",
    "    'Revenue': [53.8, 61.5, 70.4, 80.2, 85.3],  # In billions\n",
    "}\n",
    "\n",
    "revenue_df = pd.DataFrame(data)\n",
    "\n",
    "print(revenue_df)"
   ]
  },
  {
   "cell_type": "code",
   "execution_count": 24,
   "id": "e7807195-2ca9-4e58-8294-3949dccacad1",
   "metadata": {
    "tags": []
   },
   "outputs": [
    {
     "data": {
      "text/html": [
       "\n",
       "        <iframe\n",
       "            width=\"100%\"\n",
       "            height=\"650\"\n",
       "            src=\"http://127.0.0.1:8050/\"\n",
       "            frameborder=\"0\"\n",
       "            allowfullscreen\n",
       "            \n",
       "        ></iframe>\n",
       "        "
      ],
      "text/plain": [
       "<IPython.lib.display.IFrame at 0x2c77c7be9d0>"
      ]
     },
     "metadata": {},
     "output_type": "display_data"
    }
   ],
   "source": [
    "import yfinance as yf\n",
    "import pandas as pd\n",
    "from dash import Dash, html, dcc\n",
    "import plotly.graph_objs as go\n",
    "\n",
    "# 1. Fetch GameStop stock data\n",
    "gme = yf.Ticker(\"TSLA\")\n",
    "stock_data = gme.history(period=\"30d\")\n",
    "\n",
    "# 2. Sample revenue data (in billions USD)\n",
    "revenue_df = pd.DataFrame({\n",
    "    'Year': [2019, 2020, 2021, 2022, 2023],\n",
    "    'Revenue': [6.47, 5.09, 5.09, 6.01, 5.27]\n",
    "})\n",
    "\n",
    "# 3. Dash app\n",
    "app = Dash(__name__)\n",
    "app.title = \"TESLA Dashboard\"\n",
    "\n",
    "# 4. Stock chart\n",
    "stock_fig = go.Figure(\n",
    "    data=[\n",
    "        go.Candlestick(\n",
    "            x=stock_data.index,\n",
    "            open=stock_data['Open'],\n",
    "            high=stock_data['High'],\n",
    "            low=stock_data['Low'],\n",
    "            close=stock_data['Close'],\n",
    "            name=\"GameStop\"\n",
    "        )\n",
    "    ]\n",
    ")\n",
    "stock_fig.update_layout(title=\"TESLA Stock Price (Last 30 Days)\", yaxis_title=\"USD\")\n",
    "\n",
    "# 5. Revenue bar chart\n",
    "revenue_fig = go.Figure(\n",
    "    data=[\n",
    "        go.Bar(x=revenue_df['Year'], y=revenue_df['Revenue'], name=\"Revenue\")\n",
    "    ]\n",
    ")\n",
    "revenue_fig.update_layout(title=\"TESLA Annual Revenue\", yaxis_title=\"Billion USD\")\n",
    "\n",
    "# 6. Layout\n",
    "app.layout = html.Div(children=[\n",
    "    html.H1(\"TESLA Stock and Revenue Dashboard\", style={\"textAlign\": \"center\"}),\n",
    "    dcc.Graph(figure=stock_fig),\n",
    "    dcc.Graph(figure=revenue_fig),\n",
    "])\n",
    "\n",
    "# 7. Run server\n",
    "if __name__ == \"__main__\":\n",
    "    app.run(debug=True)"
   ]
  },
  {
   "cell_type": "code",
   "execution_count": 26,
   "id": "48fbb8e0-ff8d-48fc-a79c-0c3b3cd8f197",
   "metadata": {
    "tags": []
   },
   "outputs": [
    {
     "data": {
      "text/html": [
       "\n",
       "        <iframe\n",
       "            width=\"100%\"\n",
       "            height=\"650\"\n",
       "            src=\"http://127.0.0.1:8050/\"\n",
       "            frameborder=\"0\"\n",
       "            allowfullscreen\n",
       "            \n",
       "        ></iframe>\n",
       "        "
      ],
      "text/plain": [
       "<IPython.lib.display.IFrame at 0x2c77cd37a10>"
      ]
     },
     "metadata": {},
     "output_type": "display_data"
    }
   ],
   "source": [
    "import yfinance as yf\n",
    "import pandas as pd\n",
    "from dash import Dash, html, dcc\n",
    "import plotly.graph_objs as go\n",
    "\n",
    "# 1. Fetch GameStop stock data\n",
    "gme = yf.Ticker(\"GME\")\n",
    "stock_data = gme.history(period=\"30d\")\n",
    "\n",
    "# 2. Sample revenue data (in billions USD)\n",
    "revenue_df = pd.DataFrame({\n",
    "    'Year': [2019, 2020, 2021, 2022, 2023],\n",
    "    'Revenue': [6.47, 5.09, 5.09, 6.01, 5.27]\n",
    "})\n",
    "\n",
    "# 3. Dash app\n",
    "app = Dash(__name__)\n",
    "app.title = \"GameStop Dashboard\"\n",
    "\n",
    "# 4. Stock chart\n",
    "stock_fig = go.Figure(\n",
    "    data=[\n",
    "        go.Candlestick(\n",
    "            x=stock_data.index,\n",
    "            open=stock_data['Open'],\n",
    "            high=stock_data['High'],\n",
    "            low=stock_data['Low'],\n",
    "            close=stock_data['Close'],\n",
    "            name=\"GameStop\"\n",
    "        )\n",
    "    ]\n",
    ")\n",
    "stock_fig.update_layout(title=\"GME Stock Price (Last 30 Days)\", yaxis_title=\"USD\")\n",
    "\n",
    "# 5. Revenue bar chart\n",
    "revenue_fig = go.Figure(\n",
    "    data=[\n",
    "        go.Bar(x=revenue_df['Year'], y=revenue_df['Revenue'], name=\"Revenue\")\n",
    "    ]\n",
    ")\n",
    "revenue_fig.update_layout(title=\"GameStop Annual Revenue\", yaxis_title=\"Billion USD\")\n",
    "\n",
    "# 6. Layout\n",
    "app.layout = html.Div(children=[\n",
    "    html.H1(\"GameStop Stock and Revenue Dashboard\", style={\"textAlign\": \"center\"}),\n",
    "    dcc.Graph(figure=stock_fig),\n",
    "    dcc.Graph(figure=revenue_fig),\n",
    "])\n",
    "\n",
    "# 7. Run server\n",
    "if __name__ == \"__main__\":\n",
    "    app.run(debug=True)"
   ]
  },
  {
   "cell_type": "code",
   "execution_count": null,
   "id": "4402974a-3b3c-4438-b6b3-01104901f421",
   "metadata": {},
   "outputs": [],
   "source": []
  }
 ],
 "metadata": {
  "kernelspec": {
   "display_name": "Python 3 (ipykernel)",
   "language": "python",
   "name": "python3"
  },
  "language_info": {
   "codemirror_mode": {
    "name": "ipython",
    "version": 3
   },
   "file_extension": ".py",
   "mimetype": "text/x-python",
   "name": "python",
   "nbconvert_exporter": "python",
   "pygments_lexer": "ipython3",
   "version": "3.11.7"
  }
 },
 "nbformat": 4,
 "nbformat_minor": 5
}
